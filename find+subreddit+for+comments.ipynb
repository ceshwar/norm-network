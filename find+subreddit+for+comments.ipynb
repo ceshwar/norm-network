{
 "cells": [
  {
   "cell_type": "code",
   "execution_count": 1,
   "metadata": {
    "collapsed": true
   },
   "outputs": [],
   "source": [
    "import pandas as pd\n",
    "import os"
   ]
  },
  {
   "cell_type": "code",
   "execution_count": 2,
   "metadata": {
    "collapsed": true
   },
   "outputs": [],
   "source": [
    "datadir = '/home/samory/test-data/'"
   ]
  },
  {
   "cell_type": "code",
   "execution_count": 3,
   "metadata": {
    "collapsed": true
   },
   "outputs": [],
   "source": [
    "#read the removed comments, and return a df with comment AND subreddit as columns\n",
    "def read_removed_comments(datadir):\n",
    "    for fname in os.listdir(datadir):\n",
    "        df = pd.read_csv(os.path.join(datadir, fname), names=['comment'])\n",
    "        df['subreddit'] = fname[:-len('.removed')]\n",
    "        yield df"
   ]
  },
  {
   "cell_type": "code",
   "execution_count": 4,
   "metadata": {},
   "outputs": [],
   "source": [
    "dfs = list(read_removed_comments(datadir))"
   ]
  },
  {
   "cell_type": "code",
   "execution_count": 5,
   "metadata": {},
   "outputs": [],
   "source": [
    "df= pd.concat(dfs)"
   ]
  },
  {
   "cell_type": "code",
   "execution_count": 6,
   "metadata": {},
   "outputs": [],
   "source": [
    "predictions = pd.read_csv('/home/samory/all-experts-predictions-all-removed.csv')"
   ]
  },
  {
   "cell_type": "code",
   "execution_count": 7,
   "metadata": {},
   "outputs": [
    {
     "data": {
      "text/plain": [
       "(2867783, 2867785)"
      ]
     },
     "execution_count": 7,
     "metadata": {},
     "output_type": "execute_result"
    }
   ],
   "source": [
    "#length mismatch\n",
    "len(predictions), len(df)"
   ]
  },
  {
   "cell_type": "code",
   "execution_count": 8,
   "metadata": {},
   "outputs": [
    {
     "data": {
      "text/plain": [
       "(2867783, 2867783)"
      ]
     },
     "execution_count": 8,
     "metadata": {},
     "output_type": "execute_result"
    }
   ],
   "source": [
    "#it's probably just some empty line in the .removed files\n",
    "len(predictions.dropna()), len(df.dropna())"
   ]
  },
  {
   "cell_type": "code",
   "execution_count": 9,
   "metadata": {
    "collapsed": true
   },
   "outputs": [],
   "source": [
    "df.dropna(inplace=True)"
   ]
  },
  {
   "cell_type": "code",
   "execution_count": null,
   "metadata": {
    "collapsed": true
   },
   "outputs": [],
   "source": [
    "#matching comment content is memory intensive\n",
    "#let's assume each comment in the prediction df always has one matching it\n",
    "#let's also assume that predictions for identical comments are identical\n",
    "#then we can just sort both dfs on comment content to \"align\" them and copy the subreddit to the prediction df"
   ]
  },
  {
   "cell_type": "code",
   "execution_count": 10,
   "metadata": {},
   "outputs": [],
   "source": [
    "predictions = predictions.sort_values('comment')\n",
    "df = df.sort_values('comment')"
   ]
  },
  {
   "cell_type": "code",
   "execution_count": 11,
   "metadata": {},
   "outputs": [
    {
     "data": {
      "text/plain": [
       "2124970    __label__removed 𝕴𝖓 𝖙𝖍𝖊 𝖆𝖇𝖘𝖊𝖓𝖈𝖊 𝖔𝖋 𝖆 𝖙𝖔𝖗𝖞 𝖈𝖆𝖓𝖉...\n",
       "144078     __label__removed 𝘠𝘦𝘢𝘩 𝘪𝘵 𝘴 𝘶𝘯𝘧𝘰𝘳𝘵𝘶𝘯𝘢𝘵𝘦 𝘸𝘦 𝘤𝘢𝘯 ...\n",
       "2510372    __label__removed 𝙺𝚞𝚔𝚊 𝚝ää𝚕𝚕ä 𝚊𝚕𝚊𝚗𝚞𝚘𝚕𝚒𝚝𝚝𝚊𝚊 𝚔𝚊𝚒𝚔𝚔𝚎𝚊\n",
       "2510373                  __label__removed 𝚁𝚒𝚋𝚊𝚕𝚎𝚎𝚝 𝚔𝚘𝚗𝚜𝚘𝚕𝚒𝚒𝚗\n",
       "2198535                     __label__removed 𝚜𝚒𝚊 𝚒𝚗𝚝𝚎𝚗𝚜𝚒𝚏𝚒𝚎𝚜\n",
       "Name: comment, dtype: object"
      ]
     },
     "execution_count": 11,
     "metadata": {},
     "output_type": "execute_result"
    }
   ],
   "source": [
    "predictions.tail().comment"
   ]
  },
  {
   "cell_type": "code",
   "execution_count": 12,
   "metadata": {},
   "outputs": [
    {
     "data": {
      "text/plain": [
       "2124970    __label__removed 𝕴𝖓 𝖙𝖍𝖊 𝖆𝖇𝖘𝖊𝖓𝖈𝖊 𝖔𝖋 𝖆 𝖙𝖔𝖗𝖞 𝖈𝖆𝖓𝖉...\n",
       "144078     __label__removed 𝘠𝘦𝘢𝘩 𝘪𝘵 𝘴 𝘶𝘯𝘧𝘰𝘳𝘵𝘶𝘯𝘢𝘵𝘦 𝘸𝘦 𝘤𝘢𝘯 ...\n",
       "2510372    __label__removed 𝙺𝚞𝚔𝚊 𝚝ää𝚕𝚕ä 𝚊𝚕𝚊𝚗𝚞𝚘𝚕𝚒𝚝𝚝𝚊𝚊 𝚔𝚊𝚒𝚔𝚔𝚎𝚊\n",
       "2510373                  __label__removed 𝚁𝚒𝚋𝚊𝚕𝚎𝚎𝚝 𝚔𝚘𝚗𝚜𝚘𝚕𝚒𝚒𝚗\n",
       "2198535                     __label__removed 𝚜𝚒𝚊 𝚒𝚗𝚝𝚎𝚗𝚜𝚒𝚏𝚒𝚎𝚜\n",
       "Name: comment, dtype: object"
      ]
     },
     "execution_count": 12,
     "metadata": {},
     "output_type": "execute_result"
    }
   ],
   "source": [
    "#the dfs align\n",
    "df.set_index(predictions.index).tail().comment"
   ]
  },
  {
   "cell_type": "code",
   "execution_count": 13,
   "metadata": {},
   "outputs": [],
   "source": [
    "#port the index, so that the copying of the subreddit doesn't confuse positon and index\n",
    "df.set_index(predictions.index, inplace=True)"
   ]
  },
  {
   "cell_type": "code",
   "execution_count": 14,
   "metadata": {
    "collapsed": true
   },
   "outputs": [],
   "source": [
    "predictions['subreddit'] = df.subreddit"
   ]
  },
  {
   "cell_type": "code",
   "execution_count": 15,
   "metadata": {},
   "outputs": [
    {
     "data": {
      "text/html": [
       "<div>\n",
       "<style>\n",
       "    .dataframe thead tr:only-child th {\n",
       "        text-align: right;\n",
       "    }\n",
       "\n",
       "    .dataframe thead th {\n",
       "        text-align: left;\n",
       "    }\n",
       "\n",
       "    .dataframe tbody tr th {\n",
       "        vertical-align: top;\n",
       "    }\n",
       "</style>\n",
       "<table border=\"1\" class=\"dataframe\">\n",
       "  <thead>\n",
       "    <tr style=\"text-align: right;\">\n",
       "      <th></th>\n",
       "      <th>comment</th>\n",
       "      <th>subreddit</th>\n",
       "    </tr>\n",
       "  </thead>\n",
       "  <tbody>\n",
       "    <tr>\n",
       "      <th>2124970</th>\n",
       "      <td>__label__removed 𝕴𝖓 𝖙𝖍𝖊 𝖆𝖇𝖘𝖊𝖓𝖈𝖊 𝖔𝖋 𝖆 𝖙𝖔𝖗𝖞 𝖈𝖆𝖓𝖉...</td>\n",
       "      <td>unitedkingdom</td>\n",
       "    </tr>\n",
       "    <tr>\n",
       "      <th>144078</th>\n",
       "      <td>__label__removed 𝘠𝘦𝘢𝘩 𝘪𝘵 𝘴 𝘶𝘯𝘧𝘰𝘳𝘵𝘶𝘯𝘢𝘵𝘦 𝘸𝘦 𝘤𝘢𝘯 ...</td>\n",
       "      <td>The_Donald</td>\n",
       "    </tr>\n",
       "    <tr>\n",
       "      <th>2510372</th>\n",
       "      <td>__label__removed 𝙺𝚞𝚔𝚊 𝚝ää𝚕𝚕ä 𝚊𝚕𝚊𝚗𝚞𝚘𝚕𝚒𝚝𝚝𝚊𝚊 𝚔𝚊𝚒𝚔𝚔𝚎𝚊</td>\n",
       "      <td>Suomi</td>\n",
       "    </tr>\n",
       "    <tr>\n",
       "      <th>2510373</th>\n",
       "      <td>__label__removed 𝚁𝚒𝚋𝚊𝚕𝚎𝚎𝚝 𝚔𝚘𝚗𝚜𝚘𝚕𝚒𝚒𝚗</td>\n",
       "      <td>Suomi</td>\n",
       "    </tr>\n",
       "    <tr>\n",
       "      <th>2198535</th>\n",
       "      <td>__label__removed 𝚜𝚒𝚊 𝚒𝚗𝚝𝚎𝚗𝚜𝚒𝚏𝚒𝚎𝚜</td>\n",
       "      <td>apple</td>\n",
       "    </tr>\n",
       "  </tbody>\n",
       "</table>\n",
       "</div>"
      ],
      "text/plain": [
       "                                                   comment      subreddit\n",
       "2124970  __label__removed 𝕴𝖓 𝖙𝖍𝖊 𝖆𝖇𝖘𝖊𝖓𝖈𝖊 𝖔𝖋 𝖆 𝖙𝖔𝖗𝖞 𝖈𝖆𝖓𝖉...  unitedkingdom\n",
       "144078   __label__removed 𝘠𝘦𝘢𝘩 𝘪𝘵 𝘴 𝘶𝘯𝘧𝘰𝘳𝘵𝘶𝘯𝘢𝘵𝘦 𝘸𝘦 𝘤𝘢𝘯 ...     The_Donald\n",
       "2510372  __label__removed 𝙺𝚞𝚔𝚊 𝚝ää𝚕𝚕ä 𝚊𝚕𝚊𝚗𝚞𝚘𝚕𝚒𝚝𝚝𝚊𝚊 𝚔𝚊𝚒𝚔𝚔𝚎𝚊          Suomi\n",
       "2510373                __label__removed 𝚁𝚒𝚋𝚊𝚕𝚎𝚎𝚝 𝚔𝚘𝚗𝚜𝚘𝚕𝚒𝚒𝚗          Suomi\n",
       "2198535                   __label__removed 𝚜𝚒𝚊 𝚒𝚗𝚝𝚎𝚗𝚜𝚒𝚏𝚒𝚎𝚜          apple"
      ]
     },
     "execution_count": 15,
     "metadata": {},
     "output_type": "execute_result"
    }
   ],
   "source": [
    "df.tail()['comment subreddit'.split(' ')]"
   ]
  },
  {
   "cell_type": "code",
   "execution_count": 16,
   "metadata": {},
   "outputs": [
    {
     "data": {
      "text/html": [
       "<div>\n",
       "<style>\n",
       "    .dataframe thead tr:only-child th {\n",
       "        text-align: right;\n",
       "    }\n",
       "\n",
       "    .dataframe thead th {\n",
       "        text-align: left;\n",
       "    }\n",
       "\n",
       "    .dataframe tbody tr th {\n",
       "        vertical-align: top;\n",
       "    }\n",
       "</style>\n",
       "<table border=\"1\" class=\"dataframe\">\n",
       "  <thead>\n",
       "    <tr style=\"text-align: right;\">\n",
       "      <th></th>\n",
       "      <th>comment</th>\n",
       "      <th>subreddit</th>\n",
       "    </tr>\n",
       "  </thead>\n",
       "  <tbody>\n",
       "    <tr>\n",
       "      <th>2124970</th>\n",
       "      <td>__label__removed 𝕴𝖓 𝖙𝖍𝖊 𝖆𝖇𝖘𝖊𝖓𝖈𝖊 𝖔𝖋 𝖆 𝖙𝖔𝖗𝖞 𝖈𝖆𝖓𝖉...</td>\n",
       "      <td>unitedkingdom</td>\n",
       "    </tr>\n",
       "    <tr>\n",
       "      <th>144078</th>\n",
       "      <td>__label__removed 𝘠𝘦𝘢𝘩 𝘪𝘵 𝘴 𝘶𝘯𝘧𝘰𝘳𝘵𝘶𝘯𝘢𝘵𝘦 𝘸𝘦 𝘤𝘢𝘯 ...</td>\n",
       "      <td>The_Donald</td>\n",
       "    </tr>\n",
       "    <tr>\n",
       "      <th>2510372</th>\n",
       "      <td>__label__removed 𝙺𝚞𝚔𝚊 𝚝ää𝚕𝚕ä 𝚊𝚕𝚊𝚗𝚞𝚘𝚕𝚒𝚝𝚝𝚊𝚊 𝚔𝚊𝚒𝚔𝚔𝚎𝚊</td>\n",
       "      <td>Suomi</td>\n",
       "    </tr>\n",
       "    <tr>\n",
       "      <th>2510373</th>\n",
       "      <td>__label__removed 𝚁𝚒𝚋𝚊𝚕𝚎𝚎𝚝 𝚔𝚘𝚗𝚜𝚘𝚕𝚒𝚒𝚗</td>\n",
       "      <td>Suomi</td>\n",
       "    </tr>\n",
       "    <tr>\n",
       "      <th>2198535</th>\n",
       "      <td>__label__removed 𝚜𝚒𝚊 𝚒𝚗𝚝𝚎𝚗𝚜𝚒𝚏𝚒𝚎𝚜</td>\n",
       "      <td>apple</td>\n",
       "    </tr>\n",
       "  </tbody>\n",
       "</table>\n",
       "</div>"
      ],
      "text/plain": [
       "                                                   comment      subreddit\n",
       "2124970  __label__removed 𝕴𝖓 𝖙𝖍𝖊 𝖆𝖇𝖘𝖊𝖓𝖈𝖊 𝖔𝖋 𝖆 𝖙𝖔𝖗𝖞 𝖈𝖆𝖓𝖉...  unitedkingdom\n",
       "144078   __label__removed 𝘠𝘦𝘢𝘩 𝘪𝘵 𝘴 𝘶𝘯𝘧𝘰𝘳𝘵𝘶𝘯𝘢𝘵𝘦 𝘸𝘦 𝘤𝘢𝘯 ...     The_Donald\n",
       "2510372  __label__removed 𝙺𝚞𝚔𝚊 𝚝ää𝚕𝚕ä 𝚊𝚕𝚊𝚗𝚞𝚘𝚕𝚒𝚝𝚝𝚊𝚊 𝚔𝚊𝚒𝚔𝚔𝚎𝚊          Suomi\n",
       "2510373                __label__removed 𝚁𝚒𝚋𝚊𝚕𝚎𝚎𝚝 𝚔𝚘𝚗𝚜𝚘𝚕𝚒𝚒𝚗          Suomi\n",
       "2198535                   __label__removed 𝚜𝚒𝚊 𝚒𝚗𝚝𝚎𝚗𝚜𝚒𝚏𝚒𝚎𝚜          apple"
      ]
     },
     "execution_count": 16,
     "metadata": {},
     "output_type": "execute_result"
    }
   ],
   "source": [
    "predictions.tail()['comment subreddit'.split(' ')]"
   ]
  },
  {
   "cell_type": "code",
   "execution_count": 17,
   "metadata": {
    "collapsed": true
   },
   "outputs": [],
   "source": [
    "predictions.to_csv('~/predictions_with_subreddit.csv')"
   ]
  },
  {
   "cell_type": "code",
   "execution_count": 18,
   "metadata": {
    "collapsed": true
   },
   "outputs": [],
   "source": [
    "banned_subreddit = 'podemos svenskpolitik Suomi argentina brasil counting italy AskOuija france thenetherlands Denmark portugal Austria de sweden greece the_schulz Turkey'.split()"
   ]
  },
  {
   "cell_type": "code",
   "execution_count": 22,
   "metadata": {},
   "outputs": [
    {
     "data": {
      "text/plain": [
       "18"
      ]
     },
     "execution_count": 22,
     "metadata": {},
     "output_type": "execute_result"
    }
   ],
   "source": [
    "len(banned_subreddit)"
   ]
  },
  {
   "cell_type": "code",
   "execution_count": 23,
   "metadata": {},
   "outputs": [],
   "source": [
    "#filter out banned rows\n",
    "predictions =  predictions[predictions.subreddit.apply(lambda x: x not in banned_subreddit)]"
   ]
  },
  {
   "cell_type": "code",
   "execution_count": 29,
   "metadata": {},
   "outputs": [],
   "source": [
    "#filter out banned columns\n",
    "predictions.drop(['prediction_'+i for i in banned_subreddit], axis=1, inplace=True)"
   ]
  },
  {
   "cell_type": "code",
   "execution_count": 30,
   "metadata": {
    "collapsed": true
   },
   "outputs": [],
   "source": [
    "predictions.to_csv('~/predictions_with_subreddit_english.csv')"
   ]
  },
  {
   "cell_type": "code",
   "execution_count": 31,
   "metadata": {
    "collapsed": true
   },
   "outputs": [],
   "source": [
    "predictions.drop(['comment'], axis=1, inplace=True)"
   ]
  },
  {
   "cell_type": "code",
   "execution_count": 35,
   "metadata": {},
   "outputs": [],
   "source": [
    "pd.Series(predictions.columns[:-1]).to_csv('study_subreddits_english.csv')"
   ]
  },
  {
   "cell_type": "code",
   "execution_count": 37,
   "metadata": {},
   "outputs": [],
   "source": [
    "predictions.subreddit.to_csv('row_subreddits_english.csv')"
   ]
  },
  {
   "cell_type": "code",
   "execution_count": 38,
   "metadata": {
    "collapsed": true
   },
   "outputs": [],
   "source": [
    "predictions.drop(['subreddit'], axis=1, inplace=True)"
   ]
  },
  {
   "cell_type": "code",
   "execution_count": 39,
   "metadata": {
    "collapsed": true
   },
   "outputs": [],
   "source": [
    "predictions.to_csv('predictions_english.csv', index=False)"
   ]
  },
  {
   "cell_type": "code",
   "execution_count": 45,
   "metadata": {
    "collapsed": true
   },
   "outputs": [],
   "source": [
    "topsubs = pd.read_csv('study-subreddits.csv', names=['subreddit'])"
   ]
  },
  {
   "cell_type": "code",
   "execution_count": 52,
   "metadata": {},
   "outputs": [],
   "source": [
    "topsubs = topsubs.head(100).values.flatten()"
   ]
  },
  {
   "cell_type": "code",
   "execution_count": 55,
   "metadata": {
    "collapsed": true
   },
   "outputs": [],
   "source": [
    "subs  = pd.read_csv('row_subreddits_english.csv', index_col=0, names=['subreddit'])"
   ]
  },
  {
   "cell_type": "code",
   "execution_count": 57,
   "metadata": {},
   "outputs": [
    {
     "data": {
      "text/plain": [
       "(2831664, 2831664)"
      ]
     },
     "execution_count": 57,
     "metadata": {},
     "output_type": "execute_result"
    }
   ],
   "source": [
    "len(subs), len(predictions)"
   ]
  },
  {
   "cell_type": "code",
   "execution_count": 58,
   "metadata": {
    "collapsed": true
   },
   "outputs": [],
   "source": [
    "predictions['subreddit']=subs"
   ]
  },
  {
   "cell_type": "code",
   "execution_count": 59,
   "metadata": {
    "collapsed": true
   },
   "outputs": [],
   "source": [
    "predictions_top100 = predictions[predictions.subreddit.apply(lambda x: x in topsubs)]"
   ]
  },
  {
   "cell_type": "code",
   "execution_count": 61,
   "metadata": {},
   "outputs": [],
   "source": [
    "predictions_top100 = predictions_top100[['prediction_'+i for i in topsubs]]"
   ]
  },
  {
   "cell_type": "code",
   "execution_count": 64,
   "metadata": {},
   "outputs": [],
   "source": [
    "predictions_top100.to_csv('predictions_top100_english.csv', index=False)"
   ]
  },
  {
   "cell_type": "code",
   "execution_count": 65,
   "metadata": {},
   "outputs": [
    {
     "data": {
      "text/plain": [
       "2007006"
      ]
     },
     "execution_count": 65,
     "metadata": {},
     "output_type": "execute_result"
    }
   ],
   "source": [
    "len(predictions_top100)"
   ]
  }
 ],
 "metadata": {
  "kernelspec": {
   "display_name": "Python 2",
   "language": "python",
   "name": "python2"
  },
  "language_info": {
   "codemirror_mode": {
    "name": "ipython",
    "version": 2
   },
   "file_extension": ".py",
   "mimetype": "text/x-python",
   "name": "python",
   "nbconvert_exporter": "python",
   "pygments_lexer": "ipython2",
   "version": "2.7.12"
  }
 },
 "nbformat": 4,
 "nbformat_minor": 2
}
